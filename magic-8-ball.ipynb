{
 "cells": [
  {
   "cell_type": "code",
   "execution_count": 6,
   "id": "b272df95-7d47-4fb7-9137-02c03ba1dc9c",
   "metadata": {
    "tags": []
   },
   "outputs": [
    {
     "name": "stdout",
     "output_type": "stream",
     "text": [
      "Luan  asks:  Am I cute?\n",
      "Magic 8-Ball's answer:  My sources say so\n"
     ]
    }
   ],
   "source": [
    "# The Magic 8-Ball is a popular toy developed in the 1950s for fortune-telling or advice seeking.\n",
    "\n",
    "# Write a magic8.py Python program that can answer any “Yes” or “No” question with a different fortune each time it executes.\n",
    "\n",
    "# Magic 8-Ball, should I do this project?\n",
    "\n",
    "# We’ll be using the following 9 possible answers for our Magic 8-Ball:\n",
    "\n",
    "# Yes - definitely\n",
    "# It is decidedly so\n",
    "# Without a doubt\n",
    "# Reply hazy, try again\n",
    "# Ask again later\n",
    "# Better not tell you now\n",
    "# My sources say no\n",
    "# Outlook not so good\n",
    "# Very doubtful\n",
    "\n",
    "import random\n",
    "random_number = random.randint(1, 9)\n",
    "\n",
    "name = \"Luan\"\n",
    "question = \"Am I cute?\"\n",
    "answer = \"\"\n",
    "\n",
    "if random_number == 1:\n",
    "  answer = \"Yes - definitely\"\n",
    "elif random_number == 2:\n",
    "  answer = \"It is decidedly so\"\n",
    "elif random_number == 3:\n",
    "  answer = \"Without a doubt\"\n",
    "elif random_number == 4:\n",
    "  answer = \"Reply hazy, try again\"\n",
    "elif random_number == 5:\n",
    "  answer = \"Ask again later\"\n",
    "elif random_number == 6:\n",
    "  answer = \"Better not tell you now\"\n",
    "elif random_number == 7:\n",
    "  answer = \"My sources say so\"\n",
    "elif random_number == 8:\n",
    "  answer = \"Outlook not so good\"\n",
    "elif random_number == 9:\n",
    "  answer = \"Very doubtful\"\n",
    "else:\n",
    "  answer = \"Error\"\n",
    "\n",
    "if name == \"\":\n",
    "  print(\"Question: \", question)\n",
    "else:\n",
    "  print(name, \" asks: \", question)\n",
    "\n",
    "if question == \"\":\n",
    "  print(\"Please ask a question.\")\n",
    "else:\n",
    "  print(\"Magic 8-Ball's answer: \", answer)\n",
    "# print(random_number)"
   ]
  },
  {
   "cell_type": "code",
   "execution_count": null,
   "id": "2975a646-bbcc-48d6-a77f-960d86c15ea9",
   "metadata": {},
   "outputs": [],
   "source": []
  }
 ],
 "metadata": {
  "kernelspec": {
   "display_name": "Python 3 (ipykernel)",
   "language": "python",
   "name": "python3"
  },
  "language_info": {
   "codemirror_mode": {
    "name": "ipython",
    "version": 3
   },
   "file_extension": ".py",
   "mimetype": "text/x-python",
   "name": "python",
   "nbconvert_exporter": "python",
   "pygments_lexer": "ipython3",
   "version": "3.11.4"
  }
 },
 "nbformat": 4,
 "nbformat_minor": 5
}
