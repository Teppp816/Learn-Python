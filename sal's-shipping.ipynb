{
 "cells": [
  {
   "cell_type": "code",
   "execution_count": 1,
   "id": "1ab87b15-ab47-43ac-af9b-79a9c101e6ec",
   "metadata": {
    "tags": []
   },
   "outputs": [
    {
     "name": "stdout",
     "output_type": "stream",
     "text": [
      "Ground Shipping Cost:  22.25\n",
      "Ground Shipping Premium Cost:  125.0\n",
      "Drone Shipping Cost:  6.75\n"
     ]
    }
   ],
   "source": [
    "# Sal's Shipping\n",
    "# Sal runs the biggest shipping company in the tri-county area, Sal’s Shippers. Sal wants to make sure that every single one of his customers has the best, and most affordable experience shipping their packages.\n",
    "# In this project, you’ll build a program that will take the weight of a package and determine the cheapest way to ship that package using Sal’s Shippers.\n",
    "\n",
    "# Sal’s Shippers has several different options for a customer to ship their package:\n",
    "\n",
    "# Ground Shipping, which is a small flat charge plus a rate based on the weight of your package.\n",
    "# Ground Shipping Premium, which is a much higher flat charge, but you aren’t charged for weight.\n",
    "# Drone Shipping (new), which has no flat charge, but the rate based on weight is triple the rate of ground shipping.\n",
    "# Here are the prices:\n",
    "\n",
    "# Ground Shipping\n",
    "\n",
    "# Weight of Package\tPrice per Pound\tFlat Charge\n",
    "# 2 lb or less\t$1.50\t$20.00\n",
    "# Over 2 lb but less than or equal to 6 lb\t$3.00\t$20.00\n",
    "# Over 6 lb but less than or equal to 10 lb\t$4.00\t$20.00\n",
    "# Over 10 lb\t$4.75\t$20.00\n",
    "\n",
    "# Ground Shipping Premium\n",
    "# Flat charge: $125.00\n",
    "\n",
    "# Drone Shipping\n",
    "# Weight of Package\tPrice per Pound\tFlat Charge\n",
    "# 2 lb or less\t$4.50\t$0.00\n",
    "# Over 2 lb but less than or equal to 6 lb\t$9.00\t$0.00\n",
    "# Over 6 lb but less than or equal to 10 lb\t$12.00\t$0.00\n",
    "# Over 10 lb\t$14.25\t$0.00\n",
    "\n",
    "# Write a shipping.py Python program that asks the user for the weight of their package and then tells them which method of shipping is cheapest and how much it will cost to ship their package using Sal’s Shippers.\n",
    "\n",
    "weight = 1.5\n",
    "\n",
    "# Ground Shipping\n",
    "if weight <= 2.0:\n",
    "  print(\"Ground Shipping Cost: \", weight * 1.50 + 20)\n",
    "elif weight > 2.0 and weight <= 6.0:\n",
    "  print(\"Ground Shipping Cost: \", weight * 3.00 + 20)\n",
    "elif weight > 6.0 and weight <= 10.0:\n",
    "  print(\"Ground Shipping Cost: \", weight * 4.00 + 20)\n",
    "else:\n",
    "  print(\"Ground Shipping Cost: \", weight * 4.75 + 20)\n",
    "\n",
    "# Ground Shipping Premium\n",
    "print(\"Ground Shipping Premium Cost: \", 125.00)\n",
    "\n",
    "# Drone Shipping\n",
    "if weight <= 2.0:\n",
    "  print(\"Drone Shipping Cost: \", weight * 4.50)\n",
    "elif weight > 2.0 and weight <= 6.0:\n",
    "  print(\"Drone Shipping Cost: \", weight * 9.00)\n",
    "elif weight > 6.0 and weight <= 10.0:\n",
    "  print(\"Drone Shipping Cost: \", weight * 12.00)\n",
    "else:\n",
    "  print(\"Drone Shipping Cost: \", weight * 14.25)"
   ]
  },
  {
   "cell_type": "code",
   "execution_count": null,
   "id": "54c5cda7-1f49-4b5a-9767-a942e3098420",
   "metadata": {},
   "outputs": [],
   "source": []
  }
 ],
 "metadata": {
  "kernelspec": {
   "display_name": "Python 3 (ipykernel)",
   "language": "python",
   "name": "python3"
  },
  "language_info": {
   "codemirror_mode": {
    "name": "ipython",
    "version": 3
   },
   "file_extension": ".py",
   "mimetype": "text/x-python",
   "name": "python",
   "nbconvert_exporter": "python",
   "pygments_lexer": "ipython3",
   "version": "3.11.4"
  }
 },
 "nbformat": 4,
 "nbformat_minor": 5
}
