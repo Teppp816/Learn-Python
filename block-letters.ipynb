{
 "cells": [
  {
   "cell_type": "code",
   "execution_count": 1,
   "id": "eed827d5-b25d-4b3c-a29c-af3a9eac2c6b",
   "metadata": {
    "tags": []
   },
   "outputs": [
    {
     "name": "stdout",
     "output_type": "stream",
     "text": [
      " SSS    PPPP\n",
      "S    S  P    P\n",
      "S       P    P\n",
      " SSS    PPPP\n",
      "     S  P\n",
      "S    S  P\n",
      " SSS    P\n"
     ]
    }
   ],
   "source": [
    "# Block Letters\n",
    "# ASCII art is a way of creating images using the individual characters from a keyboard.\n",
    "\n",
    "# For example, below is an ASCII art of some letters from the English alphabet.\n",
    "\n",
    "# In this project, we will write a Python program that displays the initials of your name in block characters to dip your toes into the world ASCII art.\n",
    "\n",
    "\n",
    "# Let’s start by writing two comments:\n",
    "\n",
    "# Your full name\n",
    "# Stephanie Payumo\n",
    "\n",
    "# A fun fact about yourself\n",
    "# I love learning new skills\n",
    "\n",
    "# Now that we have our name down, let’s output our first initial!\n",
    "# Try printing out the first character of your first or given name as a block character!\n",
    "\n",
    "print(\" SSS    PPPP\")\n",
    "print(\"S    S  P    P\")\n",
    "print(\"S       P    P\")\n",
    "print(\" SSS    PPPP\")\n",
    "print(\"     S  P\")\n",
    "print(\"S    S  P\")\n",
    "print(\" SSS    P\")"
   ]
  },
  {
   "cell_type": "code",
   "execution_count": null,
   "id": "8d37ab31-3432-44ae-8a64-001c8b4f2bc8",
   "metadata": {},
   "outputs": [],
   "source": []
  }
 ],
 "metadata": {
  "kernelspec": {
   "display_name": "Python 3 (ipykernel)",
   "language": "python",
   "name": "python3"
  },
  "language_info": {
   "codemirror_mode": {
    "name": "ipython",
    "version": 3
   },
   "file_extension": ".py",
   "mimetype": "text/x-python",
   "name": "python",
   "nbconvert_exporter": "python",
   "pygments_lexer": "ipython3",
   "version": "3.11.4"
  }
 },
 "nbformat": 4,
 "nbformat_minor": 5
}
