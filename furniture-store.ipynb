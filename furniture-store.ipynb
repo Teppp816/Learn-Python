{
 "cells": [
  {
   "cell_type": "code",
   "execution_count": 1,
   "id": "1e9ee50c-32f1-4b97-ac74-f479268395c9",
   "metadata": {
    "tags": []
   },
   "outputs": [
    {
     "name": "stdout",
     "output_type": "stream",
     "text": [
      "Customer One Items: \n",
      "Lovely Loveseat. Tufted polyester blen on wood.\n",
      "32 inches high x 40 inches deep.\n",
      "Red or white.Luxurious Lamp. Glass and iron. \n",
      "36 inches tall. \n",
      "Brown with cream shade.\n",
      "Customer One Total: \n",
      "333.09119999999996\n"
     ]
    }
   ],
   "source": [
    "# Receipts for Lovely Loveseats\n",
    "\n",
    "# In this project, we will be storing the names and prices of a furniture store’s catalog in variables. You will then process the total price and item list of customers, printing them to the output terminal.\n",
    "\n",
    "lovely_loveseat_description = \"\"\"Lovely Loveseat. Tufted polyester blen on wood.\n",
    "32 inches high x 40 inches deep.\n",
    "Red or white.\"\"\"\n",
    "\n",
    "lovely_loveseat_price = 254.00\n",
    "\n",
    "stylish_settee_description = \"\"\" Stylish Sette. Daux leather on birch.\n",
    "29.50 inches high x 54.75 inches wide x 28 inches deep.\n",
    "Balck.\"\"\"\n",
    "\n",
    "stylish_settee_price = 180.50\n",
    "\n",
    "luxurius_lamp_description = \"\"\"Luxurious Lamp. Glass and iron. \n",
    "36 inches tall. \n",
    "Brown with cream shade.\"\"\"\n",
    "\n",
    "luxurious_lamp_price = 52.15\n",
    "\n",
    "sales_tax = .088\n",
    "\n",
    "customer_one_total = 0\n",
    "customer_one_itemization = \"\"\n",
    "\n",
    "customer_one_total += lovely_loveseat_price\n",
    "customer_one_itemization += lovely_loveseat_description\n",
    "\n",
    "customer_one_total += luxurious_lamp_price\n",
    "customer_one_itemization += luxurius_lamp_description\n",
    "\n",
    "customer_one_tax = customer_one_total * sales_tax\n",
    "customer_one_total += customer_one_tax\n",
    "\n",
    "print(\"Customer One Items: \")\n",
    "print(customer_one_itemization)\n",
    "\n",
    "print(\"Customer One Total: \")\n",
    "print(customer_one_total)\n",
    "\n",
    "# Congratulations! We created our catalog and served our first customer. We used our knowledge of strings and numbers to create and update variables. \n",
    "# We were able to print out an itemized list and a total cost for our customer"
   ]
  },
  {
   "cell_type": "code",
   "execution_count": null,
   "id": "f35e106f-9e9c-4dea-bc41-fd130bcacd56",
   "metadata": {},
   "outputs": [],
   "source": []
  }
 ],
 "metadata": {
  "kernelspec": {
   "display_name": "Python 3 (ipykernel)",
   "language": "python",
   "name": "python3"
  },
  "language_info": {
   "codemirror_mode": {
    "name": "ipython",
    "version": 3
   },
   "file_extension": ".py",
   "mimetype": "text/x-python",
   "name": "python",
   "nbconvert_exporter": "python",
   "pygments_lexer": "ipython3",
   "version": "3.11.4"
  }
 },
 "nbformat": 4,
 "nbformat_minor": 5
}
